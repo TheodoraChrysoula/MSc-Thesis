{
 "cells": [
  {
   "cell_type": "code",
   "execution_count": 1,
   "id": "71525800",
   "metadata": {
    "scrolled": true
   },
   "outputs": [
    {
     "name": "stderr",
     "output_type": "stream",
     "text": [
      "C:\\ProgramData\\Anaconda3\\envs\\pytorch\\lib\\site-packages\\tqdm\\auto.py:22: TqdmWarning: IProgress not found. Please update jupyter and ipywidgets. See https://ipywidgets.readthedocs.io/en/stable/user_install.html\n",
      "  from .autonotebook import tqdm as notebook_tqdm\n"
     ]
    }
   ],
   "source": [
    "#imports\n",
    "import torch\n",
    "import numpy as np\n",
    "import matplotlib\n",
    "import matplotlib.pyplot as plt\n",
    "import matplotlib.ticker as mtick\n",
    "import matplotlib.ticker as ticker\n",
    "import copy\n",
    "\n",
    "from torch import nn\n",
    "import torchvision\n",
    "import torchvision.transforms as transforms\n",
    "import torch.nn.functional as F\n",
    "import torch.optim as optim\n",
    "\n",
    "from tqdm import tqdm\n",
    "\n",
    "import seaborn as sns"
   ]
  },
  {
   "cell_type": "code",
   "execution_count": 2,
   "id": "7a393061",
   "metadata": {},
   "outputs": [
    {
     "name": "stdout",
     "output_type": "stream",
     "text": [
      "MEDMNIST v2.1.0 @ https://github.com/MedMNIST/MedMNIST/\n",
      "The number of classes is: 2 \n",
      " The number of channels is 1.\n",
      "The class_names are {'0': 'normal', '1': 'pneumonia'}\n",
      "{'python_class': 'PneumoniaMNIST', 'description': 'The PneumoniaMNIST is based on a prior dataset of 5,856 pediatric chest X-Ray images. The task is binary-class classification of pneumonia against normal. We split the source training set with a ratio of 9:1 into training and validation set and use its source validation set as the test set. The source images are gray-scale, and their sizes are (384−2,916)×(127−2,713). We center-crop the images and resize them into 1×28×28.', 'url': 'https://zenodo.org/record/6496656/files/pneumoniamnist.npz?download=1', 'MD5': '28209eda62fecd6e6a2d98b1501bb15f', 'task': 'binary-class', 'label': {'0': 'normal', '1': 'pneumonia'}, 'n_channels': 1, 'n_samples': {'train': 4708, 'val': 524, 'test': 624}, 'license': 'CC BY 4.0'}\n",
      "Using downloaded and verified file: C:\\Users\\Theodora\\.medmnist\\pneumoniamnist.npz\n",
      "Using downloaded and verified file: C:\\Users\\Theodora\\.medmnist\\pneumoniamnist.npz\n",
      "Dataset PneumoniaMNIST (pneumoniamnist)\n",
      "    Number of datapoints: 4708\n",
      "    Root location: C:\\Users\\Theodora\\.medmnist\n",
      "    Split: train\n",
      "    Task: binary-class\n",
      "    Number of channels: 1\n",
      "    Meaning of labels: {'0': 'normal', '1': 'pneumonia'}\n",
      "    Number of samples: {'train': 4708, 'val': 524, 'test': 624}\n",
      "    Description: The PneumoniaMNIST is based on a prior dataset of 5,856 pediatric chest X-Ray images. The task is binary-class classification of pneumonia against normal. We split the source training set with a ratio of 9:1 into training and validation set and use its source validation set as the test set. The source images are gray-scale, and their sizes are (384−2,916)×(127−2,713). We center-crop the images and resize them into 1×28×28.\n",
      "    License: CC BY 4.0\n",
      "==================================================\n",
      "Dataset PneumoniaMNIST (pneumoniamnist)\n",
      "    Number of datapoints: 624\n",
      "    Root location: C:\\Users\\Theodora\\.medmnist\n",
      "    Split: test\n",
      "    Task: binary-class\n",
      "    Number of channels: 1\n",
      "    Meaning of labels: {'0': 'normal', '1': 'pneumonia'}\n",
      "    Number of samples: {'train': 4708, 'val': 524, 'test': 624}\n",
      "    Description: The PneumoniaMNIST is based on a prior dataset of 5,856 pediatric chest X-Ray images. The task is binary-class classification of pneumonia against normal. We split the source training set with a ratio of 9:1 into training and validation set and use its source validation set as the test set. The source images are gray-scale, and their sizes are (384−2,916)×(127−2,713). We center-crop the images and resize them into 1×28×28.\n",
      "    License: CC BY 4.0\n"
     ]
    },
    {
     "name": "stderr",
     "output_type": "stream",
     "text": [
      "C:\\ProgramData\\Anaconda3\\envs\\pytorch\\lib\\site-packages\\medmnist\\utils.py:25: FutureWarning: `multichannel` is a deprecated argument name for `montage`. It will be removed in version 1.0. Please use `channel_axis` instead.\n",
      "  montage_arr = skimage_montage(sel_img, multichannel=(n_channels == 3))\n"
     ]
    },
    {
     "name": "stdout",
     "output_type": "stream",
     "text": [
      "[631 391 504]\n"
     ]
    },
    {
     "data": {
      "image/png": "[encoded data removed]",
      "text/plain": [
       "<Figure size 432x432 with 3 Axes>"
      ]
     },
     "metadata": {},
     "output_type": "display_data"
    }
   ],
   "source": [
    "from dataset import train_dataset, test_dataset, train_loader, test_loader, task, n_channels, n_classes"
   ]
  },
  {
   "cell_type": "code",
   "execution_count": 3,
   "id": "41321a8b",
   "metadata": {},
   "outputs": [
    {
     "name": "stdout",
     "output_type": "stream",
     "text": [
      "624\n"
     ]
    }
   ],
   "source": [
    "print(len(test_dataset))"
   ]
  },
  {
   "cell_type": "code",
   "execution_count": 4,
   "id": "ffc248f9",
   "metadata": {},
   "outputs": [],
   "source": [
    "class MyDropout(nn.Module):                                                        #custom Dropout layer for saving the parameters, to be used in LRP\n",
    "    def __init__(self, p=0.5):\n",
    "        super(MyDropout, self).__init__()\n",
    "        self.p = p\n",
    "        self.seed = 0\n",
    "    \n",
    "    def forward(self, input, freeze = False):\n",
    "        if not self.training:                                                      # if model.eval(), don't apply dropout\n",
    "            return input\n",
    "\n",
    "        if not freeze:                                                             # if freeze == False, generate new random seed\n",
    "            q=np.random.randint(10000000, size = 1)[0]                             # if freeze == True , use random seed from previous run (used in LRP)\n",
    "            self.seed = q\n",
    "        \n",
    "        torch.manual_seed(self.seed)   \n",
    "        return torch.nn.functional.dropout2d(input, p=self.p)\n",
    "\n",
    "class LeNet(nn.Module):\n",
    "    def __init__(self, n_channels, n_classes, droprate=0.5):\n",
    "        super(LeNet, self).__init__()\n",
    "        self.model = nn.Sequential()\n",
    "        self.model.add_module('conv1', nn.Conv2d(n_channels, 24, 5))\n",
    "        self.model.add_module('relu1', nn.ReLU())\n",
    "        self.model.add_module('maxpool1', nn.MaxPool2d(2))\n",
    "        self.model.add_module('conv2', nn.Conv2d(24, 48, kernel_size=5))\n",
    "        self.model.add_module('relu2', nn.ReLU())\n",
    "        self.model.add_module('dropout2', MyDropout())\n",
    "        self.model.add_module('maxpool2', nn.MaxPool2d(2))\n",
    "        self.model.add_module('flatten', nn.Flatten())\n",
    "        self.model.add_module('dense3', nn.Linear(48*5*5, 240))\n",
    "        self.model.add_module('relu3', nn.ReLU())\n",
    "        self.model.add_module('dropout3', MyDropout())\n",
    "        self.model.add_module('final', nn.Linear(240, n_classes))\n",
    "        \n",
    "    def forward(self, x):\n",
    "        return self.model(x)\n",
    "\n",
    "model = LeNet(n_classes, n_channels)\n",
    "# model.load_state_dict(torch.load('mnist_lenet.ckpt', map_location=torch.device('cpu')))                           #load model from file\n",
    "\n",
    "# device = torch.device(\"cuda:0\" if torch.cuda.is_available() else \"cpu\")\n",
    "# model.to(device)\n",
    "# print(device)"
   ]
  },
  {
   "cell_type": "code",
   "execution_count": 5,
   "id": "cf929b04",
   "metadata": {},
   "outputs": [
    {
     "name": "stdout",
     "output_type": "stream",
     "text": [
      "cuda:0\n"
     ]
    }
   ],
   "source": [
    "model = LeNet(n_channels, n_classes)\n",
    "model.load_state_dict(torch.load('../outputs/pneumonia_mnist_lenet_2.ckpt', map_location=torch.device('cpu')))                           #load model from file\n",
    "\n",
    "device = torch.device(\"cuda:0\" if torch.cuda.is_available() else \"cpu\")\n",
    "model.to(device)\n",
    "print(device)"
   ]
  },
  {
   "cell_type": "code",
   "execution_count": 6,
   "id": "beb9c8b4",
   "metadata": {},
   "outputs": [],
   "source": [
    "# --------------------------------------------------------------\n",
    "# LRP Epsilon rule\n",
    "# --------------------------------------------------------------\n",
    "\n",
    "# More information at http://www.heatmapping.org/tutorial/\n",
    "\n",
    "def LRP_epsilon(image, class_id, model, dropout = True, verbose = False, device = 'cpu', epsilon = 1e-9):\n",
    "\n",
    "\n",
    "    # image:        Original Image,\n",
    "    # class_id:     Index of a true class,\n",
    "    # model:        Neural Network,\n",
    "    # dropout:      If set True -- run LRP-Epsilon on a sample from posterior, else run Standard LRP-Epsilon,\n",
    "    # verbose:      If set True -- print top 3 output scores,\n",
    "    # device:       Default device,\n",
    "    # epsilon:      Value of epsilon,\n",
    "   \n",
    "    if not dropout:\n",
    "        model.eval()\n",
    "    else:\n",
    "        model.train()\n",
    "    model.to(device)\n",
    "\n",
    "    X = image.view([1,1,32,32]).to(device)\n",
    "    layers = list(model.modules())[2:]\n",
    "    L = len(layers)\n",
    "\n",
    "\n",
    "    A = [X]+[None]*L\n",
    "    with torch.no_grad():\n",
    "      for l in range(L): A[l+1] = layers[l].forward(A[l]).to(device)\n",
    "    \n",
    "    scores = np.array(A[-1].data.view(-1).cpu())\n",
    "    ind = np.argsort(-scores) # sorts the output classes by max probability: array of 10 indices\n",
    "    \n",
    "    if verbose:\n",
    "        for i in ind[:3]:\n",
    "            print('New instance:')\n",
    "            print('%20s (%3d): %6.3f'%(imgclasses[i][:20],i,scores[i]))\n",
    "\n",
    "    T = A[-1].cpu().detach().numpy().tolist()[0]\n",
    "    index = T.index(max(T))\n",
    "    T = np.abs(np.array(T))*0\n",
    "    T[index]=1\n",
    "    #T = torch.FloatTensor((1.*(np.arange(2)==class_id).reshape(A[-1].shape))).to(device) # reform to one hot vector\n",
    "    R = [None] * L + [(A[-1]*T)] # R is None*12 + A[-1], only the prob of the max prob, all other elements 0 value\n",
    "\n",
    "    for l in range(0,L)[::-1]:\n",
    "        A[l] = A[l].requires_grad_(True)\n",
    "        rho = lambda p: p;                       incr = lambda z: z + epsilon\n",
    "\n",
    "        if isinstance(layers[l],torch.nn.MaxPool2d): layers[l] = torch.nn.AvgPool2d(2)\n",
    "        \n",
    "        if isinstance(layers[l],torch.nn.Conv2d) or \\\n",
    "           isinstance(layers[l],torch.nn.AvgPool2d) or \\\n",
    "           isinstance(layers[l],torch.nn.Linear) or \\\n",
    "           isinstance(layers[l],torch.nn.Flatten):\n",
    "\n",
    "            z = incr(newlayer(layers[l],rho).forward(A[l]))        # step 1\n",
    "            s = (R[l+1]/z).data                                    # step 2\n",
    "            (z*s).sum().backward(); c = A[l].grad                  # step 3\n",
    "            R[l] = (A[l]*c).data                                   # step 4\n",
    "            \n",
    "        else:\n",
    "            if not dropout:\n",
    "              R[l] = R[l+1]\n",
    "            else:\n",
    "              if isinstance(layers[l],MyDropout):\n",
    "                  incr = lambda z: z + epsilon\n",
    "                  z = incr(layers[l].forward(A[l], freeze = True))       # step 1: we freeze random state so we can remember which neurons were dropped\n",
    "                  s = (R[l+1]/z).data                                    # step 2\n",
    "                  (z*s).sum().backward(); c = A[l].grad                  # step 3\n",
    "                  R[l] = (A[l]*c).data                                   # step 4\n",
    "              else:\n",
    "                  R[l] = R[l+1]\n",
    "\n",
    "    return R[0].data\n",
    "\n",
    "\n",
    "# --------------------------------------------------------------\n",
    "# Clone a layer and pass its parameters through the function g\n",
    "# --------------------------------------------------------------\n",
    "\n",
    "def newlayer(layer,g):\n",
    "\n",
    "    layer = copy.deepcopy(layer)\n",
    "\n",
    "    try: layer.weight = nn.Parameter(g(layer.weight))\n",
    "    except AttributeError: pass\n",
    "\n",
    "    try: layer.bias   = nn.Parameter(g(layer.bias))\n",
    "    except AttributeError: pass\n",
    "\n",
    "    return layer\n",
    "\n",
    "# --------------------------------------------------------------\n",
    "# Function for MinMax Normalisation of Relevances\n",
    "# --------------------------------------------------------------\n",
    "\n",
    "def normalise_relevance(relevance_matrix):\n",
    "    a = relevance_matrix.min()\n",
    "    b = relevance_matrix.max()\n",
    "    \n",
    "    if (a == 0.) & (b == 0.):\n",
    "        return relevance_matrix\n",
    "    if (a > 0.):\n",
    "      return (relevance_matrix >0.)*relevance_matrix/b\n",
    "    if (b < 0.):\n",
    "      return - (relevance_matrix <=0.)*relevance_matrix/a\n",
    "    \n",
    "    return (relevance_matrix >0.)*relevance_matrix/b  - (relevance_matrix <=0.)*relevance_matrix/a"
   ]
  },
  {
   "cell_type": "code",
   "execution_count": 7,
   "id": "295bfa7f",
   "metadata": {
    "scrolled": true
   },
   "outputs": [
    {
     "name": "stderr",
     "output_type": "stream",
     "text": [
      "  0%|          | 0/100 [00:00<?, ?it/s]\n"
     ]
    },
    {
     "ename": "RuntimeError",
     "evalue": "expand(torch.FloatTensor{[32, 32]}, size=[32]): the number of sizes provided (1) must be greater or equal to the number of dimensions in the tensor (2)",
     "output_type": "error",
     "traceback": [
      "\u001b[1;31m---------------------------------------------------------------------------\u001b[0m",
      "\u001b[1;31mRuntimeError\u001b[0m                              Traceback (most recent call last)",
      "\u001b[1;32m<ipython-input-7-36b133dbe999>\u001b[0m in \u001b[0;36m<module>\u001b[1;34m\u001b[0m\n\u001b[0;32m      7\u001b[0m \u001b[1;32mfor\u001b[0m \u001b[0mq\u001b[0m \u001b[1;32min\u001b[0m \u001b[0msamples\u001b[0m\u001b[1;33m:\u001b[0m\u001b[1;33m\u001b[0m\u001b[1;33m\u001b[0m\u001b[0m\n\u001b[0;32m      8\u001b[0m     \u001b[1;32mfor\u001b[0m \u001b[0mi\u001b[0m \u001b[1;32min\u001b[0m \u001b[0mtqdm\u001b[0m\u001b[1;33m(\u001b[0m\u001b[0mrange\u001b[0m\u001b[1;33m(\u001b[0m\u001b[0mN_MC\u001b[0m\u001b[1;33m)\u001b[0m\u001b[1;33m)\u001b[0m\u001b[1;33m:\u001b[0m\u001b[1;33m\u001b[0m\u001b[1;33m\u001b[0m\u001b[0m\n\u001b[1;32m----> 9\u001b[1;33m         \u001b[0mLRPs\u001b[0m\u001b[1;33m[\u001b[0m\u001b[0mcounter\u001b[0m\u001b[1;33m]\u001b[0m\u001b[1;33m[\u001b[0m\u001b[0mi\u001b[0m\u001b[1;33m]\u001b[0m \u001b[1;33m=\u001b[0m \u001b[0mLRP_epsilon\u001b[0m\u001b[1;33m(\u001b[0m\u001b[0mtest_dataset\u001b[0m\u001b[1;33m[\u001b[0m\u001b[0mq\u001b[0m\u001b[1;33m]\u001b[0m\u001b[1;33m[\u001b[0m\u001b[1;36m0\u001b[0m\u001b[1;33m]\u001b[0m\u001b[1;33m.\u001b[0m\u001b[0mto\u001b[0m\u001b[1;33m(\u001b[0m\u001b[0mdevice\u001b[0m\u001b[1;33m)\u001b[0m\u001b[1;33m,\u001b[0m \u001b[0mtest_dataset\u001b[0m\u001b[1;33m[\u001b[0m\u001b[0mq\u001b[0m\u001b[1;33m]\u001b[0m\u001b[1;33m[\u001b[0m\u001b[1;36m1\u001b[0m\u001b[1;33m]\u001b[0m\u001b[1;33m,\u001b[0m \u001b[0mmodel\u001b[0m\u001b[1;33m,\u001b[0m \u001b[0mdropout\u001b[0m\u001b[1;33m=\u001b[0m\u001b[1;32mTrue\u001b[0m\u001b[1;33m)\u001b[0m\u001b[1;33m[\u001b[0m\u001b[1;36m0\u001b[0m\u001b[1;33m]\u001b[0m\u001b[1;33m[\u001b[0m\u001b[1;36m0\u001b[0m\u001b[1;33m]\u001b[0m\u001b[1;33m.\u001b[0m\u001b[0mdata\u001b[0m\u001b[1;33m\u001b[0m\u001b[1;33m\u001b[0m\u001b[0m\n\u001b[0m\u001b[0;32m     10\u001b[0m     \u001b[0mStandard_LRPs\u001b[0m\u001b[1;33m[\u001b[0m\u001b[0mcounter\u001b[0m\u001b[1;33m]\u001b[0m \u001b[1;33m=\u001b[0m \u001b[0mLRP_epsilon\u001b[0m\u001b[1;33m(\u001b[0m\u001b[0mtest_dataset\u001b[0m\u001b[1;33m[\u001b[0m\u001b[0mq\u001b[0m\u001b[1;33m]\u001b[0m\u001b[1;33m[\u001b[0m\u001b[1;36m0\u001b[0m\u001b[1;33m]\u001b[0m\u001b[1;33m.\u001b[0m\u001b[0mto\u001b[0m\u001b[1;33m(\u001b[0m\u001b[0mdevice\u001b[0m\u001b[1;33m)\u001b[0m\u001b[1;33m,\u001b[0m \u001b[0mtest_dataset\u001b[0m\u001b[1;33m[\u001b[0m\u001b[0mq\u001b[0m\u001b[1;33m]\u001b[0m\u001b[1;33m[\u001b[0m\u001b[1;36m1\u001b[0m\u001b[1;33m]\u001b[0m\u001b[1;33m,\u001b[0m \u001b[0mmodel\u001b[0m\u001b[1;33m,\u001b[0m \u001b[0mdropout\u001b[0m \u001b[1;33m=\u001b[0m \u001b[1;32mFalse\u001b[0m\u001b[1;33m)\u001b[0m\u001b[1;33m[\u001b[0m\u001b[1;36m0\u001b[0m\u001b[1;33m]\u001b[0m\u001b[1;33m[\u001b[0m\u001b[1;36m0\u001b[0m\u001b[1;33m]\u001b[0m\u001b[1;33m.\u001b[0m\u001b[0mdata\u001b[0m\u001b[1;33m\u001b[0m\u001b[1;33m\u001b[0m\u001b[0m\n\u001b[0;32m     11\u001b[0m     \u001b[0mcounter\u001b[0m \u001b[1;33m+=\u001b[0m \u001b[1;36m1\u001b[0m\u001b[1;33m\u001b[0m\u001b[1;33m\u001b[0m\u001b[0m\n",
      "\u001b[1;31mRuntimeError\u001b[0m: expand(torch.FloatTensor{[32, 32]}, size=[32]): the number of sizes provided (1) must be greater or equal to the number of dimensions in the tensor (2)"
     ]
    }
   ],
   "source": [
    "N_MC = 100\n",
    "samples = np.random.choice(len(test_dataset), 4)\n",
    "LRPs = torch.zeros([len(samples), 32, 32])\n",
    "Standards_LRPs = torch.zeros([len(samples), 32, 32])\n",
    "\n",
    "counter = 0\n",
    "for q in samples:\n",
    "    for i in tqdm(range(N_MC)):\n",
    "        LRPs[counter][i] = LRP_epsilon(test_dataset[q][0].to(device), test_dataset[q][1], model, dropout=True)[0][0].data\n",
    "    Standard_LRPs[counter] = LRP_epsilon(test_dataset[q][0].to(device), test_dataset[q][1], model, dropout = False)[0][0].data\n",
    "    counter += 1\n",
    "                           "
   ]
  },
  {
   "cell_type": "code",
   "execution_count": null,
   "id": "707fecd1",
   "metadata": {},
   "outputs": [],
   "source": [
    " T = torch.FloatTensor((1.*(np.arange(2)==class_id).reshape(A[-1].shape))).to(device) # reform to one hot vector"
   ]
  },
  {
   "cell_type": "code",
   "execution_count": 27,
   "id": "b57c9bf5",
   "metadata": {},
   "outputs": [
    {
     "data": {
      "text/plain": [
       "array([1])"
      ]
     },
     "execution_count": 27,
     "metadata": {},
     "output_type": "execute_result"
    }
   ],
   "source": [
    "test_dataset[0][1]"
   ]
  },
  {
   "cell_type": "code",
   "execution_count": 33,
   "id": "134b9078",
   "metadata": {},
   "outputs": [
    {
     "data": {
      "text/plain": [
       "array([0., 1.])"
      ]
     },
     "execution_count": 33,
     "metadata": {},
     "output_type": "execute_result"
    }
   ],
   "source": [
    "x = 1.*np.arange(2)\n",
    "x"
   ]
  },
  {
   "cell_type": "code",
   "execution_count": 32,
   "id": "a2fc9f8d",
   "metadata": {},
   "outputs": [
    {
     "data": {
      "text/plain": [
       "array([0, 1, 2, 3, 4, 5, 6, 7, 8, 9])"
      ]
     },
     "execution_count": 32,
     "metadata": {},
     "output_type": "execute_result"
    }
   ],
   "source": [
    "y = np.arange(10)\n",
    "y"
   ]
  },
  {
   "cell_type": "code",
   "execution_count": null,
   "id": "967b7ed2",
   "metadata": {},
   "outputs": [],
   "source": []
  }
 ],
 "metadata": {
  "kernelspec": {
   "display_name": "Python 3",
   "language": "python",
   "name": "python3"
  },
  "language_info": {
   "codemirror_mode": {
    "name": "ipython",
    "version": 3
   },
   "file_extension": ".py",
   "mimetype": "text/x-python",
   "name": "python",
   "nbconvert_exporter": "python",
   "pygments_lexer": "ipython3",
   "version": "3.8.8"
  }
 },
 "nbformat": 4,
 "nbformat_minor": 5
}
