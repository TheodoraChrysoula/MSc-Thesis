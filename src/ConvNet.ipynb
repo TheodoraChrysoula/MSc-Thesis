{
 "cells": [
  {
   "cell_type": "code",
   "execution_count": 2,
   "id": "3312b1af",
   "metadata": {},
   "outputs": [
    {
     "name": "stderr",
     "output_type": "stream",
     "text": [
      "C:\\ProgramData\\Anaconda3\\envs\\pytorch\\lib\\site-packages\\tqdm\\auto.py:22: TqdmWarning: IProgress not found. Please update jupyter and ipywidgets. See https://ipywidgets.readthedocs.io/en/stable/user_install.html\n",
      "  from .autonotebook import tqdm as notebook_tqdm\n"
     ]
    }
   ],
   "source": [
    "import torch\n",
    "import torch.nn as nn\n",
    "import numpy as np\n",
    "import torch.nn.functional as F"
   ]
  },
  {
   "cell_type": "code",
   "execution_count": 3,
   "id": "b00e83a1",
   "metadata": {},
   "outputs": [],
   "source": [
    "class MyDropout(nn.Module):\n",
    "    def __init__(self, p=0.5):\n",
    "        super(MyDropout, self).__init__()\n",
    "        self.p = p\n",
    "        self.seed = 0\n",
    "        \n",
    "    def forward(self, input, freeze = False):\n",
    "        if not self.training:\n",
    "            return input\n",
    "        \n",
    "        if not freeze:\n",
    "            q = np.random.randint(10000000, size = 1)[0]\n",
    "            self.seed = q\n",
    "            \n",
    "        torch.manual_seed(self.seed)\n",
    "        return torch.nn.functional.dropout2d(input, p = self.p)\n",
    "    "
   ]
  },
  {
   "cell_type": "code",
   "execution_count": 4,
   "id": "cea0a693",
   "metadata": {},
   "outputs": [],
   "source": [
    "class ConvNet(nn.Module):\n",
    "    def __init__(self, in_channels, num_classes, droprate = 0.5):\n",
    "        super(ConvNet, self).__init__()\n",
    "        \n",
    "        self.layer1 = nn.Sequential(\n",
    "        nn.Conv2d(in_channels, 32, 3, 1, 1), #input_size = 32, conv2d = 32, maxpool = 16\n",
    "        nn.ReLU(),\n",
    "        MyDropout(),\n",
    "        nn.MaxPool2d(2,2)\n",
    "        )\n",
    "        \n",
    "        self.layer2 = nn.Sequential(\n",
    "        nn.Conv2d(32, 64, 3, 1, 1), # input_size = 16, conv2d = 16, maxpool = 8\n",
    "        nn.ReLU(),\n",
    "        MyDropout(),\n",
    "        nn.MaxPool2d(2,2)\n",
    "        )\n",
    "        \n",
    "        self.layer3 = nn.Sequential(\n",
    "        nn.Conv2d(64, 128, 3, 1, 1),\n",
    "        nn.ReLU(),\n",
    "        MyDropout(),\n",
    "        nn.MaxPool2d(2,2)\n",
    "        )\n",
    "        \n",
    "        self.fc = nn.Sequential(\n",
    "        nn.Flatten(),\n",
    "        nn.Linear(128*4*4, 128),\n",
    "        nn.ReLU(),\n",
    "        MyDropout(),\n",
    "        nn.Linear(128, num_classes)\n",
    "        )\n",
    "        \n",
    "    def forward(self, x):\n",
    "        x = self.layer1(x)\n",
    "        x = self.layer2(x)\n",
    "        x = self.layer3(x)\n",
    "        x = self.fc(x)\n",
    "        return(x)\n",
    "        \n",
    "        "
   ]
  },
  {
   "cell_type": "code",
   "execution_count": null,
   "id": "826c6f83",
   "metadata": {},
   "outputs": [],
   "source": []
  }
 ],
 "metadata": {
  "kernelspec": {
   "display_name": "Python 3",
   "language": "python",
   "name": "python3"
  },
  "language_info": {
   "codemirror_mode": {
    "name": "ipython",
    "version": 3
   },
   "file_extension": ".py",
   "mimetype": "text/x-python",
   "name": "python",
   "nbconvert_exporter": "python",
   "pygments_lexer": "ipython3",
   "version": "3.8.8"
  }
 },
 "nbformat": 4,
 "nbformat_minor": 5
}
