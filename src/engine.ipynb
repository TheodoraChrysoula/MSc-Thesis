{
 "cells": [
  {
   "cell_type": "code",
   "execution_count": 1,
   "id": "8b400cc4",
   "metadata": {},
   "outputs": [],
   "source": [
    "from tqdm import tqdm \n",
    "import numpy as np\n",
    "import os\n",
    "import torch\n",
    "import torch.nn as nn\n",
    "import torch.optim as optim\n",
    "import torch.optim.lr_scheduler as lr_scheduler\n",
    "from torch.optim.lr_scheduler import StepLR\n",
    "from torch.utils.data import Dataset, DataLoader, WeightedRandomSampler\n",
    "\n",
    "import matplotlib.pyplot as plt\n",
    "import matplotlib\n",
    "matplotlib.style.use('ggplot')\n",
    "\n",
    "import Models\n",
    "import ResNet50_Model"
   ]
  },
  {
   "cell_type": "code",
   "execution_count": 4,
   "id": "90ee61e6",
   "metadata": {},
   "outputs": [],
   "source": [
    "import CheXpertDataset\n",
    "CheXpertDataset = importlib.reload(CheXpertDataset)"
   ]
  },
  {
   "cell_type": "code",
   "execution_count": 2,
   "id": "d1485e85",
   "metadata": {},
   "outputs": [],
   "source": [
    "# Import the model\n",
    "import importlib\n",
    "Models = importlib.reload(Models)\n",
    "ResNet50_Model = importlib.reload(ResNet50_Model)\n"
   ]
  },
  {
   "cell_type": "code",
   "execution_count": 3,
   "id": "5c112862",
   "metadata": {},
   "outputs": [],
   "source": [
    "from Dataset2 import dataset\n",
    "DATA_DIR = '../vinbigdata-chestXRay/'\n",
    "boxes_dir = DATA_DIR+'converted_data.csv'\n",
    "images_dir = DATA_DIR+'converted'"
   ]
  },
  {
   "cell_type": "code",
   "execution_count": 4,
   "id": "134279cd",
   "metadata": {},
   "outputs": [
    {
     "name": "stdout",
     "output_type": "stream",
     "text": [
      "The number of training images: 11836\n",
      "The number of validation images: 1480\n",
      "The number of the test images: 1480\n"
     ]
    },
    {
     "data": {
      "text/plain": [
       "(7,)"
      ]
     },
     "execution_count": 4,
     "metadata": {},
     "output_type": "execute_result"
    }
   ],
   "source": [
    "# VinBigData Dataset\n",
    "train_dataset, valid_dataset, test_dataset = dataset(7, images_dir, boxes_dir, no_finding=True)\n",
    "train_dataset[0][1].shape"
   ]
  },
  {
   "cell_type": "code",
   "execution_count": 5,
   "id": "7763a83a",
   "metadata": {
    "scrolled": true
   },
   "outputs": [],
   "source": [
    "# #from WholeDataset import train_dataset, valid_dataset, test_dataset\n",
    "# from WholeDataset import dataset_whole\n",
    "# train_dataset, valid_dataset, test_dataset = dataset_whole(images_dir, boxes_dir, 15)"
   ]
  },
  {
   "cell_type": "code",
   "execution_count": 6,
   "id": "85df8f40",
   "metadata": {},
   "outputs": [],
   "source": [
    "class SaveBestModel:\n",
    "    '''\n",
    "    Class to save the best model while training. if the current validation loss\n",
    "    is less than the previous least less, the save the model state'''\n",
    "    \n",
    "    def __init__(self, best_valid_loss=float('inf')):\n",
    "        self.best_valid_loss = best_valid_loss\n",
    "        \n",
    "    def __call__(self, current_valid_loss, epoch, model, optimizer, criterion):\n",
    "        if current_valid_loss < self.best_valid_loss:\n",
    "            self.best_valid_loss = current_valid_loss\n",
    "            print(f\"\\nBest validation loss: {self.best_valid_loss}\")\n",
    "            print(f\"\\nSaving the best model for epoch: {epoch+1}\\n\")\n",
    "            torch.save({\n",
    "                'epoch': epoch+1,\n",
    "                'model_state_dict': model.state_dict(),\n",
    "                'optimizer_state_dict': optimizer.state_dict(),\n",
    "                'loss': criterion,\n",
    "            }, '../outputs/best_model_efficient.pth')\n",
    "        "
   ]
  },
  {
   "cell_type": "code",
   "execution_count": 7,
   "id": "904575c3",
   "metadata": {},
   "outputs": [],
   "source": [
    "def calculate_pos_weights(labels):\n",
    "    num_positives = labels.sum(axis=0)\n",
    "    num_negatives = len(labels) - num_positives\n",
    "    pos_weights = num_negatives/num_positives\n",
    "    return torch.Tensor(pos_weights)"
   ]
  },
  {
   "cell_type": "code",
   "execution_count": 8,
   "id": "67addb5c",
   "metadata": {},
   "outputs": [],
   "source": [
    "# train function\n",
    "def train(model, trainloader, optimizer, criterion, device):\n",
    "    print('Training')\n",
    "    model.train()\n",
    "    counter=0\n",
    "    train_running_loss = 0.0\n",
    "    for i, (image, label, index) in tqdm(enumerate(trainloader), total=len(trainloader)):\n",
    "        counter+=1\n",
    "        image = image.to(device)\n",
    "        label = label.to(device)\n",
    "        label = label.to(torch.float32)\n",
    "        optimizer.zero_grad()\n",
    "        \n",
    "        # forward pass\n",
    "        output = model(image)\n",
    "        # Calculate the loss\n",
    "        loss = criterion(output, label)\n",
    "        train_running_loss += loss.item()\n",
    "               \n",
    "        # Backward\n",
    "        loss.backward()\n",
    "        optimizer.step()\n",
    "    train_loss = train_running_loss/counter\n",
    "    \n",
    "    return train_loss"
   ]
  },
  {
   "cell_type": "code",
   "execution_count": 9,
   "id": "c1a29827",
   "metadata": {},
   "outputs": [],
   "source": [
    "# validation function\n",
    "def validate(model, validloader, criterion, device):\n",
    "    print('Validating')\n",
    "    model.eval()\n",
    "    counter=0\n",
    "    val_running_loss = 0.0\n",
    "    val_running_correct = 0.0\n",
    "    y_true = []\n",
    "    y_pred = []\n",
    "    with torch.no_grad():\n",
    "        for i, (image, label, index) in tqdm(enumerate(validloader), total=len(validloader)):\n",
    "            counter+=1\n",
    "            image = image.to(device)\n",
    "            label = label.to(device)\n",
    "            label = label.to(torch.float32)\n",
    "            # Forward pass\n",
    "            outputs = model(image)\n",
    "            \n",
    "            # Calculate the loss\n",
    "            loss = criterion(outputs, label)\n",
    "            val_running_loss += loss.item()\n",
    "            \n",
    "            # Convert predictions and labels to numpy arrays\n",
    "            predictions = torch.sigmoid(outputs).cpu().numpy()\n",
    "            labels = label.cpu().numpy()\n",
    "            \n",
    "            # Round predictions to obtain binary values\n",
    "            predictions = np.round(predictions)\n",
    "            \n",
    "            # Flatten predictions and labels\n",
    "            predictions = predictions.flatten()\n",
    "            labels = labels.flatten()\n",
    "            \n",
    "            # Append the predictions and labels to the lists\n",
    "            y_pred.extend(predictions)\n",
    "            y_true.extend(labels)\n",
    "            \n",
    "        # Calculate f1 score\n",
    "        f1 = f1_score(y_true, y_pred, average='micro')\n",
    "                    \n",
    "        # Statistics\n",
    "        val_loss = val_running_loss/counter\n",
    "     \n",
    "        return val_loss, f1"
   ]
  },
  {
   "cell_type": "code",
   "execution_count": 10,
   "id": "09f158e2",
   "metadata": {},
   "outputs": [
    {
     "name": "stderr",
     "output_type": "stream",
     "text": [
      "C:\\Users\\Theodora\\anaconda3\\envs\\pytorch\\lib\\site-packages\\torchvision\\models\\_utils.py:208: UserWarning: The parameter 'pretrained' is deprecated since 0.13 and may be removed in the future, please use 'weights' instead.\n",
      "  warnings.warn(\n",
      "C:\\Users\\Theodora\\anaconda3\\envs\\pytorch\\lib\\site-packages\\torchvision\\models\\_utils.py:223: UserWarning: Arguments other than a weight enum or `None` for 'weights' are deprecated since 0.13 and may be removed in the future. The current behavior is equivalent to passing `weights=EfficientNet_B0_Weights.IMAGENET1K_V1`. You can also use `weights=EfficientNet_B0_Weights.DEFAULT` to get the most up-to-date weights.\n",
      "  warnings.warn(msg)\n"
     ]
    }
   ],
   "source": [
    "# Initialize the model and Training parameters\n",
    "device = torch.device(\"cuda\" if torch.cuda.is_available() else \"cpu\")\n",
    "# initialize the model\n",
    "model = Models.model(model_type='efficient', pretrained=True, requires_grad=True, res = 'None', num_classes=7).to(device)\n",
    "# learning parameters\n",
    "lr = 0.01\n",
    "epochs=20\n",
    "batch_size=32\n",
    "\n",
    "optimizer = optim.SGD(model.parameters(), lr, momentum=0.9)\n",
    "#optimizer = optim.Adam(model.parameters(), lr)\n",
    "\n",
    "'''VinBigData Dataset'''\n",
    "pos_weights = calculate_pos_weights(train_dataset.labels)\n",
    "#print(pos_weights)\n",
    "criterion = nn.BCEWithLogitsLoss(pos_weight = pos_weights.to(device)).to(device) # VinBigData Dataset\n",
    "#criterion = nn.BCEWithLogitsLoss()\n",
    "\n",
    "#Initialize SaveBestModel class\n",
    "save_best_model = SaveBestModel()\n",
    "\n",
    "#scheduler = StepLR(optimizer, step_size=5, gamma=0.1)\n",
    "\n",
    "\n",
    "scheduler = lr_scheduler.LinearLR(optimizer, \n",
    "                                  start_factor = 1.0, # the number we multiply lr in the first epoch\n",
    "                                  end_factor=0.3,\n",
    "                                  total_iters=20) # the number of iterations that multicative factor reaches to 1\n"
   ]
  },
  {
   "cell_type": "code",
   "execution_count": 13,
   "id": "7b87e596",
   "metadata": {},
   "outputs": [
    {
     "name": "stdout",
     "output_type": "stream",
     "text": [
      "C:\\Users\\Theodora\\Documents\\master2\\papers for diploma\\Explainability\\MSc_Thesis\\src\n",
      "C:\\Users\\Theodora\\Documents\\master2\\papers for diploma\\Explainability\\MSc_Thesis\\data\\stanford\\CheXpert\n"
     ]
    }
   ],
   "source": [
    "'''Stanford CheXert Dataset'''\n",
    "\n",
    "path = os.getcwd()\n",
    "data_dir = os.path.join(os.path.dirname(path), 'data', 'stanford', 'CheXpert')\n",
    "print(path)\n",
    "print(data_dir)\n",
    "\n",
    "image_shape = (224,224)\n",
    "idx = ['Cardiomegaly', 'Edema', 'Consolidation', 'Atelectasis', 'Pleural Effusion']\n",
    "#idx = [7,10,11,13,15]\n",
    "policy='diff'\n",
    "dataset_dir = os.path.join(data_dir, \"CheXpert-v1.0-small\")\n",
    "#print(dataset_dir)\n",
    "dataset = CheXpertDataset.CheXpert(dataset_dir, idx, policy, image_shape)\n",
    "train_dataset, valid_dataset, test_dataset = dataset.get_datasets()\n",
    "trainloader, validloader, testloader = dataset.get_data_loaders(batch_size)"
   ]
  },
  {
   "cell_type": "code",
   "execution_count": 11,
   "id": "eac9f6e0",
   "metadata": {},
   "outputs": [
    {
     "data": {
      "text/plain": [
       "(11836, 1480, 1480)"
      ]
     },
     "execution_count": 11,
     "metadata": {},
     "output_type": "execute_result"
    }
   ],
   "source": [
    "len(train_dataset), len(valid_dataset), len(test_dataset)"
   ]
  },
  {
   "cell_type": "code",
   "execution_count": 12,
   "id": "24b1c701",
   "metadata": {},
   "outputs": [],
   "source": [
    "# This is for VinBigData Dataset\n",
    "trainloader = DataLoader(train_dataset, batch_size=batch_size, shuffle = True)\n",
    "validloader = DataLoader(valid_dataset, batch_size=batch_size, shuffle=False)\n"
   ]
  },
  {
   "cell_type": "code",
   "execution_count": 13,
   "id": "f5c8dd54",
   "metadata": {},
   "outputs": [
    {
     "name": "stdout",
     "output_type": "stream",
     "text": [
      "Image dimensions: torch.Size([32, 3, 224, 224])\n",
      "labels dimensions: torch.Size([32, 7])\n",
      "Idx: {tensor([ 2600,  4409,  3092,   915,  7725, 11646,  7234,  5393,  6062,  6971,\n",
      "         4343,  9681,  7349,  9920, 10855,  4057,  3418,  1432,  4345,  2875,\n",
      "         2272,  3668,  3774,  9158,  3421,  4362,  3084,  3871,  9516,  6234,\n",
      "         5208,  1004])}\n"
     ]
    }
   ],
   "source": [
    "for image, label, index in trainloader:\n",
    "    print('Image dimensions:', image.shape)\n",
    "    print('labels dimensions:', label.shape)\n",
    "    #print(index)\n",
    "    print('Idx:', {index})\n",
    "    break"
   ]
  },
  {
   "cell_type": "code",
   "execution_count": 14,
   "id": "6e50f9f0",
   "metadata": {
    "scrolled": true
   },
   "outputs": [
    {
     "name": "stdout",
     "output_type": "stream",
     "text": [
      "Epoch 1 of 20\n",
      "Training\n"
     ]
    },
    {
     "name": "stderr",
     "output_type": "stream",
     "text": [
      "100%|██████████| 370/370 [05:30<00:00,  1.12it/s]\n"
     ]
    },
    {
     "name": "stdout",
     "output_type": "stream",
     "text": [
      "Validating\n"
     ]
    },
    {
     "name": "stderr",
     "output_type": "stream",
     "text": [
      "100%|██████████| 47/47 [00:20<00:00,  2.29it/s]\n"
     ]
    },
    {
     "name": "stdout",
     "output_type": "stream",
     "text": [
      "Train Loss: 0.713\n",
      "Valid Loss: 0.5678\n",
      "F1 score: 0.8176\n",
      "\n",
      "Best validation loss: 0.567795918342915\n",
      "\n",
      "Saving the best model for epoch: 1\n",
      "\n",
      "==================================================\n",
      "Epoch 1: SGD lr 0.0100 -> 0.0097\n",
      "Epoch 2 of 20\n",
      "Training\n"
     ]
    },
    {
     "name": "stderr",
     "output_type": "stream",
     "text": [
      "100%|██████████| 370/370 [02:38<00:00,  2.33it/s]\n"
     ]
    },
    {
     "name": "stdout",
     "output_type": "stream",
     "text": [
      "Validating\n"
     ]
    },
    {
     "name": "stderr",
     "output_type": "stream",
     "text": [
      "100%|██████████| 47/47 [00:12<00:00,  3.86it/s]\n"
     ]
    },
    {
     "name": "stdout",
     "output_type": "stream",
     "text": [
      "Train Loss: 0.533\n",
      "Valid Loss: 0.4403\n",
      "F1 score: 0.8639\n",
      "\n",
      "Best validation loss: 0.4402706499429459\n",
      "\n",
      "Saving the best model for epoch: 2\n",
      "\n",
      "==================================================\n",
      "Epoch 2: SGD lr 0.0097 -> 0.0093\n",
      "Epoch 3 of 20\n",
      "Training\n"
     ]
    },
    {
     "name": "stderr",
     "output_type": "stream",
     "text": [
      "100%|██████████| 370/370 [01:36<00:00,  3.85it/s]\n"
     ]
    },
    {
     "name": "stdout",
     "output_type": "stream",
     "text": [
      "Validating\n"
     ]
    },
    {
     "name": "stderr",
     "output_type": "stream",
     "text": [
      "100%|██████████| 47/47 [00:12<00:00,  3.87it/s]\n"
     ]
    },
    {
     "name": "stdout",
     "output_type": "stream",
     "text": [
      "Train Loss: 0.486\n",
      "Valid Loss: 0.4328\n",
      "F1 score: 0.8529\n",
      "\n",
      "Best validation loss: 0.43280118481909974\n",
      "\n",
      "Saving the best model for epoch: 3\n",
      "\n",
      "==================================================\n",
      "Epoch 3: SGD lr 0.0093 -> 0.0090\n",
      "Epoch 4 of 20\n",
      "Training\n"
     ]
    },
    {
     "name": "stderr",
     "output_type": "stream",
     "text": [
      "100%|██████████| 370/370 [01:38<00:00,  3.76it/s]\n"
     ]
    },
    {
     "name": "stdout",
     "output_type": "stream",
     "text": [
      "Validating\n"
     ]
    },
    {
     "name": "stderr",
     "output_type": "stream",
     "text": [
      "100%|██████████| 47/47 [00:13<00:00,  3.61it/s]\n"
     ]
    },
    {
     "name": "stdout",
     "output_type": "stream",
     "text": [
      "Train Loss: 0.443\n",
      "Valid Loss: 0.4089\n",
      "F1 score: 0.8567\n",
      "\n",
      "Best validation loss: 0.4089064445901424\n",
      "\n",
      "Saving the best model for epoch: 4\n",
      "\n",
      "==================================================\n",
      "Epoch 4: SGD lr 0.0090 -> 0.0086\n",
      "Epoch 5 of 20\n",
      "Training\n"
     ]
    },
    {
     "name": "stderr",
     "output_type": "stream",
     "text": [
      "100%|██████████| 370/370 [01:39<00:00,  3.72it/s]\n"
     ]
    },
    {
     "name": "stdout",
     "output_type": "stream",
     "text": [
      "Validating\n"
     ]
    },
    {
     "name": "stderr",
     "output_type": "stream",
     "text": [
      "100%|██████████| 47/47 [00:11<00:00,  4.13it/s]\n"
     ]
    },
    {
     "name": "stdout",
     "output_type": "stream",
     "text": [
      "Train Loss: 0.421\n",
      "Valid Loss: 0.4324\n",
      "F1 score: 0.8390\n",
      "==================================================\n",
      "Epoch 5: SGD lr 0.0086 -> 0.0083\n",
      "Epoch 6 of 20\n",
      "Training\n"
     ]
    },
    {
     "name": "stderr",
     "output_type": "stream",
     "text": [
      "100%|██████████| 370/370 [01:44<00:00,  3.53it/s]\n"
     ]
    },
    {
     "name": "stdout",
     "output_type": "stream",
     "text": [
      "Validating\n"
     ]
    },
    {
     "name": "stderr",
     "output_type": "stream",
     "text": [
      "100%|██████████| 47/47 [00:11<00:00,  4.11it/s]\n"
     ]
    },
    {
     "name": "stdout",
     "output_type": "stream",
     "text": [
      "Train Loss: 0.401\n",
      "Valid Loss: 0.4110\n",
      "F1 score: 0.8862\n",
      "==================================================\n",
      "Epoch 6: SGD lr 0.0083 -> 0.0079\n",
      "Epoch 7 of 20\n",
      "Training\n"
     ]
    },
    {
     "name": "stderr",
     "output_type": "stream",
     "text": [
      "100%|██████████| 370/370 [01:40<00:00,  3.68it/s]\n"
     ]
    },
    {
     "name": "stdout",
     "output_type": "stream",
     "text": [
      "Validating\n"
     ]
    },
    {
     "name": "stderr",
     "output_type": "stream",
     "text": [
      "100%|██████████| 47/47 [00:12<00:00,  3.68it/s]\n"
     ]
    },
    {
     "name": "stdout",
     "output_type": "stream",
     "text": [
      "Train Loss: 0.383\n",
      "Valid Loss: 0.3930\n",
      "F1 score: 0.8998\n",
      "\n",
      "Best validation loss: 0.39303818757229664\n",
      "\n",
      "Saving the best model for epoch: 7\n",
      "\n",
      "==================================================\n",
      "Epoch 7: SGD lr 0.0079 -> 0.0076\n",
      "Epoch 8 of 20\n",
      "Training\n"
     ]
    },
    {
     "name": "stderr",
     "output_type": "stream",
     "text": [
      "100%|██████████| 370/370 [01:51<00:00,  3.33it/s]\n"
     ]
    },
    {
     "name": "stdout",
     "output_type": "stream",
     "text": [
      "Validating\n"
     ]
    },
    {
     "name": "stderr",
     "output_type": "stream",
     "text": [
      "100%|██████████| 47/47 [00:12<00:00,  3.66it/s]\n"
     ]
    },
    {
     "name": "stdout",
     "output_type": "stream",
     "text": [
      "Train Loss: 0.376\n",
      "Valid Loss: 0.4265\n",
      "F1 score: 0.9046\n",
      "==================================================\n",
      "Epoch 8: SGD lr 0.0076 -> 0.0072\n",
      "Epoch 9 of 20\n",
      "Training\n"
     ]
    },
    {
     "name": "stderr",
     "output_type": "stream",
     "text": [
      "100%|██████████| 370/370 [01:49<00:00,  3.37it/s]\n"
     ]
    },
    {
     "name": "stdout",
     "output_type": "stream",
     "text": [
      "Validating\n"
     ]
    },
    {
     "name": "stderr",
     "output_type": "stream",
     "text": [
      "100%|██████████| 47/47 [00:11<00:00,  3.96it/s]\n"
     ]
    },
    {
     "name": "stdout",
     "output_type": "stream",
     "text": [
      "Train Loss: 0.366\n",
      "Valid Loss: 0.4342\n",
      "F1 score: 0.9045\n",
      "==================================================\n",
      "Epoch 9: SGD lr 0.0072 -> 0.0068\n",
      "Epoch 10 of 20\n",
      "Training\n"
     ]
    },
    {
     "name": "stderr",
     "output_type": "stream",
     "text": [
      "100%|██████████| 370/370 [01:45<00:00,  3.49it/s]\n"
     ]
    },
    {
     "name": "stdout",
     "output_type": "stream",
     "text": [
      "Validating\n"
     ]
    },
    {
     "name": "stderr",
     "output_type": "stream",
     "text": [
      "100%|██████████| 47/47 [00:12<00:00,  3.70it/s]\n"
     ]
    },
    {
     "name": "stdout",
     "output_type": "stream",
     "text": [
      "Train Loss: 0.349\n",
      "Valid Loss: 0.4044\n",
      "F1 score: 0.8921\n",
      "==================================================\n",
      "Epoch 10: SGD lr 0.0068 -> 0.0065\n",
      "Epoch 11 of 20\n",
      "Training\n"
     ]
    },
    {
     "name": "stderr",
     "output_type": "stream",
     "text": [
      "100%|██████████| 370/370 [01:50<00:00,  3.35it/s]\n"
     ]
    },
    {
     "name": "stdout",
     "output_type": "stream",
     "text": [
      "Validating\n"
     ]
    },
    {
     "name": "stderr",
     "output_type": "stream",
     "text": [
      "100%|██████████| 47/47 [00:12<00:00,  3.65it/s]\n"
     ]
    },
    {
     "name": "stdout",
     "output_type": "stream",
     "text": [
      "Train Loss: 0.338\n",
      "Valid Loss: 0.3990\n",
      "F1 score: 0.8979\n",
      "==================================================\n",
      "Epoch 11: SGD lr 0.0065 -> 0.0061\n",
      "Epoch 12 of 20\n",
      "Training\n"
     ]
    },
    {
     "name": "stderr",
     "output_type": "stream",
     "text": [
      "100%|██████████| 370/370 [01:48<00:00,  3.41it/s]\n"
     ]
    },
    {
     "name": "stdout",
     "output_type": "stream",
     "text": [
      "Validating\n"
     ]
    },
    {
     "name": "stderr",
     "output_type": "stream",
     "text": [
      "100%|██████████| 47/47 [00:12<00:00,  3.67it/s]\n"
     ]
    },
    {
     "name": "stdout",
     "output_type": "stream",
     "text": [
      "Train Loss: 0.324\n",
      "Valid Loss: 0.4243\n",
      "F1 score: 0.9036\n",
      "==================================================\n",
      "Epoch 12: SGD lr 0.0061 -> 0.0058\n",
      "Epoch 13 of 20\n",
      "Training\n"
     ]
    },
    {
     "name": "stderr",
     "output_type": "stream",
     "text": [
      "100%|██████████| 370/370 [01:49<00:00,  3.38it/s]\n"
     ]
    },
    {
     "name": "stdout",
     "output_type": "stream",
     "text": [
      "Validating\n"
     ]
    },
    {
     "name": "stderr",
     "output_type": "stream",
     "text": [
      "100%|██████████| 47/47 [00:12<00:00,  3.70it/s]\n"
     ]
    },
    {
     "name": "stdout",
     "output_type": "stream",
     "text": [
      "Train Loss: 0.318\n",
      "Valid Loss: 0.4258\n",
      "F1 score: 0.9064\n",
      "==================================================\n",
      "Epoch 13: SGD lr 0.0058 -> 0.0054\n",
      "Epoch 14 of 20\n",
      "Training\n"
     ]
    },
    {
     "name": "stderr",
     "output_type": "stream",
     "text": [
      "100%|██████████| 370/370 [01:50<00:00,  3.36it/s]\n"
     ]
    },
    {
     "name": "stdout",
     "output_type": "stream",
     "text": [
      "Validating\n"
     ]
    },
    {
     "name": "stderr",
     "output_type": "stream",
     "text": [
      "100%|██████████| 47/47 [00:13<00:00,  3.57it/s]\n"
     ]
    },
    {
     "name": "stdout",
     "output_type": "stream",
     "text": [
      "Train Loss: 0.308\n",
      "Valid Loss: 0.4357\n",
      "F1 score: 0.9061\n",
      "==================================================\n",
      "Epoch 14: SGD lr 0.0054 -> 0.0051\n",
      "Epoch 15 of 20\n",
      "Training\n"
     ]
    },
    {
     "name": "stderr",
     "output_type": "stream",
     "text": [
      "100%|██████████| 370/370 [01:49<00:00,  3.36it/s]\n"
     ]
    },
    {
     "name": "stdout",
     "output_type": "stream",
     "text": [
      "Validating\n"
     ]
    },
    {
     "name": "stderr",
     "output_type": "stream",
     "text": [
      "100%|██████████| 47/47 [00:13<00:00,  3.60it/s]\n"
     ]
    },
    {
     "name": "stdout",
     "output_type": "stream",
     "text": [
      "Train Loss: 0.295\n",
      "Valid Loss: 0.4129\n",
      "F1 score: 0.9081\n",
      "==================================================\n",
      "Epoch 15: SGD lr 0.0051 -> 0.0047\n",
      "Epoch 16 of 20\n",
      "Training\n"
     ]
    },
    {
     "name": "stderr",
     "output_type": "stream",
     "text": [
      "100%|██████████| 370/370 [01:48<00:00,  3.40it/s]\n"
     ]
    },
    {
     "name": "stdout",
     "output_type": "stream",
     "text": [
      "Validating\n"
     ]
    },
    {
     "name": "stderr",
     "output_type": "stream",
     "text": [
      "100%|██████████| 47/47 [00:12<00:00,  3.63it/s]\n"
     ]
    },
    {
     "name": "stdout",
     "output_type": "stream",
     "text": [
      "Train Loss: 0.288\n",
      "Valid Loss: 0.4280\n",
      "F1 score: 0.9157\n",
      "==================================================\n",
      "Epoch 16: SGD lr 0.0047 -> 0.0044\n",
      "Epoch 17 of 20\n",
      "Training\n"
     ]
    },
    {
     "name": "stderr",
     "output_type": "stream",
     "text": [
      "100%|██████████| 370/370 [01:49<00:00,  3.39it/s]\n"
     ]
    },
    {
     "name": "stdout",
     "output_type": "stream",
     "text": [
      "Validating\n"
     ]
    },
    {
     "name": "stderr",
     "output_type": "stream",
     "text": [
      "100%|██████████| 47/47 [00:12<00:00,  3.62it/s]\n"
     ]
    },
    {
     "name": "stdout",
     "output_type": "stream",
     "text": [
      "Train Loss: 0.278\n",
      "Valid Loss: 0.4171\n",
      "F1 score: 0.8986\n",
      "==================================================\n",
      "Epoch 17: SGD lr 0.0044 -> 0.0040\n",
      "Epoch 18 of 20\n",
      "Training\n"
     ]
    },
    {
     "name": "stderr",
     "output_type": "stream",
     "text": [
      "100%|██████████| 370/370 [01:48<00:00,  3.41it/s]\n"
     ]
    },
    {
     "name": "stdout",
     "output_type": "stream",
     "text": [
      "Validating\n"
     ]
    },
    {
     "name": "stderr",
     "output_type": "stream",
     "text": [
      "100%|██████████| 47/47 [00:12<00:00,  3.69it/s]\n"
     ]
    },
    {
     "name": "stdout",
     "output_type": "stream",
     "text": [
      "Train Loss: 0.271\n",
      "Valid Loss: 0.4358\n",
      "F1 score: 0.9125\n",
      "==================================================\n",
      "Epoch 18: SGD lr 0.0040 -> 0.0037\n",
      "Epoch 19 of 20\n",
      "Training\n"
     ]
    },
    {
     "name": "stderr",
     "output_type": "stream",
     "text": [
      "100%|██████████| 370/370 [01:48<00:00,  3.41it/s]\n"
     ]
    },
    {
     "name": "stdout",
     "output_type": "stream",
     "text": [
      "Validating\n"
     ]
    },
    {
     "name": "stderr",
     "output_type": "stream",
     "text": [
      "100%|██████████| 47/47 [00:12<00:00,  3.62it/s]\n"
     ]
    },
    {
     "name": "stdout",
     "output_type": "stream",
     "text": [
      "Train Loss: 0.267\n",
      "Valid Loss: 0.4309\n",
      "F1 score: 0.9127\n",
      "==================================================\n",
      "Epoch 19: SGD lr 0.0037 -> 0.0034\n",
      "Epoch 20 of 20\n",
      "Training\n"
     ]
    },
    {
     "name": "stderr",
     "output_type": "stream",
     "text": [
      "100%|██████████| 370/370 [01:49<00:00,  3.37it/s]\n"
     ]
    },
    {
     "name": "stdout",
     "output_type": "stream",
     "text": [
      "Validating\n"
     ]
    },
    {
     "name": "stderr",
     "output_type": "stream",
     "text": [
      "100%|██████████| 47/47 [00:12<00:00,  3.74it/s]"
     ]
    },
    {
     "name": "stdout",
     "output_type": "stream",
     "text": [
      "Train Loss: 0.261\n",
      "Valid Loss: 0.4758\n",
      "F1 score: 0.9141\n",
      "==================================================\n",
      "Epoch 20: SGD lr 0.0034 -> 0.0030\n"
     ]
    },
    {
     "name": "stderr",
     "output_type": "stream",
     "text": [
      "\n"
     ]
    }
   ],
   "source": [
    "from sklearn.metrics import precision_score,f1_score\n",
    "torch.cuda.empty_cache()\n",
    "# Start the training and validation\n",
    "train_loss, valid_loss = [], []\n",
    "train_acc, valid_acc = [], []\n",
    "f1_valid = []\n",
    "for epoch in range(epochs):\n",
    "    print(f\"Epoch {epoch+1} of {epochs}\")\n",
    "    train_epoch_loss = train(model, trainloader, optimizer, criterion, device)\n",
    "    valid_epoch_loss, f1_epoch_valid = validate(model, validloader, criterion, device)\n",
    "    \n",
    "    train_loss.append(train_epoch_loss)\n",
    "    valid_loss.append(valid_epoch_loss)\n",
    "    f1_valid.append(f1_epoch_valid)\n",
    "    #train_acc.append(train_epoch_acc)\n",
    "    #valid_acc.append(valid_epoch_acc)\n",
    "\n",
    "    \n",
    "    print(f\"Train Loss: {train_epoch_loss:.3f}\")\n",
    "    print(f\"Valid Loss: {valid_epoch_loss:.4f}\")\n",
    "    print(f\"F1 score: {f1_epoch_valid:.4f}\")\n",
    "    \n",
    "    # Save the best model till now if we have the least loss in the current epoch\n",
    "    save_best_model(valid_epoch_loss, epoch, model, optimizer, criterion)\n",
    "    print('='*50)\n",
    "    \n",
    "    before_lr = optimizer.param_groups[0]['lr']\n",
    "    scheduler.step()\n",
    "    after_lr = optimizer.param_groups[0]['lr']\n",
    "    print('Epoch %d: SGD lr %.4f -> %.4f' % (epoch+1, before_lr, after_lr))\n",
    "    \n",
    "# # save the trained model weights for a final time\n",
    "# save_model(epochs, model, optimizer, criterion)\n",
    "    "
   ]
  },
  {
   "cell_type": "code",
   "execution_count": 15,
   "id": "85dac9ce",
   "metadata": {},
   "outputs": [
    {
     "data": {
      "image/png": "[encoded data removed]",
      "text/plain": [
       "<Figure size 1000x700 with 1 Axes>"
      ]
     },
     "metadata": {},
     "output_type": "display_data"
    }
   ],
   "source": [
    "# Loss plots\n",
    "plt.figure(figsize=(10,7))\n",
    "plt.plot(train_loss, color='orange', label='train loss')\n",
    "plt.plot(valid_loss, color='red', label='valid_loss')\n",
    "plt.xlabel('Epochs')\n",
    "plt.ylabel('Loss')\n",
    "plt.legend()\n",
    "plt.savefig('../outputs/loss_efficient_7c.png')"
   ]
  },
  {
   "cell_type": "code",
   "execution_count": 16,
   "id": "be108acc",
   "metadata": {},
   "outputs": [
    {
     "data": {
      "image/png": "[encoded data removed]",
      "text/plain": [
       "<Figure size 720x504 with 1 Axes>"
      ]
     },
     "metadata": {},
     "output_type": "display_data"
    }
   ],
   "source": [
    "# # Save the trained model to disk\n",
    "# torch.save({\n",
    "#     'epoch': epochs,\n",
    "#     'model_state_dict': model.state_dict(),\n",
    "#     'optimizer_state_dict': optimizer.state_dict(),\n",
    "#     'loss': criterion,\n",
    "#     }, '../outputs/model_50np.pth')\n",
    "\n",
    "# plot and save the train and validation line graphs\n",
    "# Loss plots\n",
    "plt.figure(figsize=(10,7))\n",
    "plt.plot(train_loss, color='orange', label='train loss')\n",
    "plt.plot(valid_loss, color='red', label='valid_loss')\n",
    "plt.xlabel('Epochs')\n",
    "plt.ylabel('Loss')\n",
    "plt.legend()\n",
    "plt.savefig('../outputs/loss_np50_3c_pos.png')\n",
    "\n",
    "# # # Accuracy plots\n",
    "# # plt.figure(figsize=(10,7))\n",
    "# # plt.plot(train_acc, color='orange', label='train acc')\n",
    "# # plt.plot(valid_acc, color='red', label='valid_acc')\n",
    "# # plt.xlabel('Epochs')\n",
    "# # plt.ylabel('F1 Score')\n",
    "# # plt.legend()\n",
    "# # plt.savefig('../outputs/acc_np18.png')\n",
    "\n",
    "plt.show()"
   ]
  },
  {
   "cell_type": "code",
   "execution_count": null,
   "id": "84351e10",
   "metadata": {},
   "outputs": [],
   "source": []
  }
 ],
 "metadata": {
  "kernelspec": {
   "display_name": "Python 3 (ipykernel)",
   "language": "python",
   "name": "python3"
  },
  "language_info": {
   "codemirror_mode": {
    "name": "ipython",
    "version": 3
   },
   "file_extension": ".py",
   "mimetype": "text/x-python",
   "name": "python",
   "nbconvert_exporter": "python",
   "pygments_lexer": "ipython3",
   "version": "3.10.11"
  }
 },
 "nbformat": 4,
 "nbformat_minor": 5
}
