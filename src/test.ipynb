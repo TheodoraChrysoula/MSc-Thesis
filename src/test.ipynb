{
 "cells": [
  {
   "cell_type": "code",
   "execution_count": 1,
   "id": "a7e37bcb",
   "metadata": {},
   "outputs": [
    {
     "name": "stderr",
     "output_type": "stream",
     "text": [
      "C:\\ProgramData\\Anaconda3\\envs\\pytorch\\lib\\site-packages\\tqdm\\auto.py:22: TqdmWarning: IProgress not found. Please update jupyter and ipywidgets. See https://ipywidgets.readthedocs.io/en/stable/user_install.html\n",
      "  from .autonotebook import tqdm as notebook_tqdm\n"
     ]
    }
   ],
   "source": [
    "from tqdm import tqdm \n",
    "import numpy as np\n",
    "import torch\n",
    "import torch.nn as nn\n",
    "import torch.optim as optim\n",
    "import torch.utils.data as data\n",
    "import torchvision.transforms as transforms\n",
    "import torch.nn.functional as F\n",
    "\n",
    "import matplotlib.pyplot as plt\n",
    "import seaborn as sns\n",
    "import cv2\n",
    "\n",
    "import medmnist \n",
    "from medmnist import INFO, Evaluator\n",
    "\n",
    "from sklearn.metrics import confusion_matrix\n",
    "from sklearn.metrics import roc_curve, auc\n",
    "\n",
    "from sklearn.metrics import roc_auc_score"
   ]
  },
  {
   "cell_type": "code",
   "execution_count": 2,
   "id": "0a7de742",
   "metadata": {},
   "outputs": [
    {
     "name": "stdout",
     "output_type": "stream",
     "text": [
      "MEDMNIST v2.1.0 @ https://github.com/MedMNIST/MedMNIST/\n",
      "The number of classes is: 2 \n",
      " The number of channels is 1.\n",
      "The class_names are {'0': 'normal', '1': 'pneumonia'}\n",
      "{'python_class': 'PneumoniaMNIST', 'description': 'The PneumoniaMNIST is based on a prior dataset of 5,856 pediatric chest X-Ray images. The task is binary-class classification of pneumonia against normal. We split the source training set with a ratio of 9:1 into training and validation set and use its source validation set as the test set. The source images are gray-scale, and their sizes are (384−2,916)×(127−2,713). We center-crop the images and resize them into 1×28×28.', 'url': 'https://zenodo.org/record/6496656/files/pneumoniamnist.npz?download=1', 'MD5': '28209eda62fecd6e6a2d98b1501bb15f', 'task': 'binary-class', 'label': {'0': 'normal', '1': 'pneumonia'}, 'n_channels': 1, 'n_samples': {'train': 4708, 'val': 524, 'test': 624}, 'license': 'CC BY 4.0'}\n",
      "Using downloaded and verified file: C:\\Users\\Theodora\\.medmnist\\pneumoniamnist.npz\n",
      "Using downloaded and verified file: C:\\Users\\Theodora\\.medmnist\\pneumoniamnist.npz\n",
      "Dataset PneumoniaMNIST (pneumoniamnist)\n",
      "    Number of datapoints: 4708\n",
      "    Root location: C:\\Users\\Theodora\\.medmnist\n",
      "    Split: train\n",
      "    Task: binary-class\n",
      "    Number of channels: 1\n",
      "    Meaning of labels: {'0': 'normal', '1': 'pneumonia'}\n",
      "    Number of samples: {'train': 4708, 'val': 524, 'test': 624}\n",
      "    Description: The PneumoniaMNIST is based on a prior dataset of 5,856 pediatric chest X-Ray images. The task is binary-class classification of pneumonia against normal. We split the source training set with a ratio of 9:1 into training and validation set and use its source validation set as the test set. The source images are gray-scale, and their sizes are (384−2,916)×(127−2,713). We center-crop the images and resize them into 1×28×28.\n",
      "    License: CC BY 4.0\n",
      "==================================================\n",
      "Dataset PneumoniaMNIST (pneumoniamnist)\n",
      "    Number of datapoints: 624\n",
      "    Root location: C:\\Users\\Theodora\\.medmnist\n",
      "    Split: test\n",
      "    Task: binary-class\n",
      "    Number of channels: 1\n",
      "    Meaning of labels: {'0': 'normal', '1': 'pneumonia'}\n",
      "    Number of samples: {'train': 4708, 'val': 524, 'test': 624}\n",
      "    Description: The PneumoniaMNIST is based on a prior dataset of 5,856 pediatric chest X-Ray images. The task is binary-class classification of pneumonia against normal. We split the source training set with a ratio of 9:1 into training and validation set and use its source validation set as the test set. The source images are gray-scale, and their sizes are (384−2,916)×(127−2,713). We center-crop the images and resize them into 1×28×28.\n",
      "    License: CC BY 4.0\n",
      "[210 870  35]\n"
     ]
    },
    {
     "name": "stderr",
     "output_type": "stream",
     "text": [
      "C:\\ProgramData\\Anaconda3\\envs\\pytorch\\lib\\site-packages\\medmnist\\utils.py:25: FutureWarning: `multichannel` is a deprecated argument name for `montage`. It will be removed in version 1.0. Please use `channel_axis` instead.\n",
      "  montage_arr = skimage_montage(sel_img, multichannel=(n_channels == 3))\n"
     ]
    },
    {
     "data": {
      "image/png": "[encoded data removed]",
      "text/plain": [
       "<Figure size 432x432 with 3 Axes>"
      ]
     },
     "metadata": {},
     "output_type": "display_data"
    }
   ],
   "source": [
    "from dataset import train_dataset, test_dataset, n_classes, n_channels, class_names, test_loader, task"
   ]
  },
  {
   "cell_type": "code",
   "execution_count": 3,
   "id": "ab9b5377",
   "metadata": {},
   "outputs": [],
   "source": [
    "def save_test_results(tensor, labels, output_class, counter):\n",
    "    '''\n",
    "    This function will save a few test images along with the\n",
    "    ground truth label and predicted label annotated on the image\n",
    "    \n",
    "    :param tensor: the image tensor\n",
    "    :param target: the ground truth class\n",
    "    param output_class: the predicted class number\n",
    "    param counter: the test image number\n",
    "    '''\n",
    "    \n",
    "    # Move tensor to cpu and denormalize\n",
    "    image = torch.squeeze(tensor, 0).cpu().numpy()\n",
    "    image = image/2 + 0.5\n",
    "    image = np.transpose(image, (1,2,0))\n",
    "    # Convert to RGB format\n",
    "    image = cv2.cvtColor(image, cv2.COLOR_RGB2BGR)\n",
    "    gt = labels.cpu().numpy()\n",
    "    cv2.putText(\n",
    "    image, f\"GT: {gt}\",\n",
    "    (5,25), cv2.FONT_HERSHEY_SIMPLEX,\n",
    "    0.7, (0, 255, 0), 2, cv2.LINE_AA)\n",
    "    cv2.putText(\n",
    "    image, f\"Pred: {output_class}\",\n",
    "    (5, 55), cv2.FONT_HERSHEY_SIMPLEX, \n",
    "    0.7, (0,255,0), 2, cv2.LINE_AA)\n",
    "    \n",
    "    cv2.imwrite(f\"../outputs/test_image_{counter}.png\", image*255.)\n",
    "    "
   ]
  },
  {
   "cell_type": "code",
   "execution_count": 4,
   "id": "30fd4a95",
   "metadata": {},
   "outputs": [],
   "source": [
    "def test(model, testloader, task):\n",
    "    model.eval()\n",
    "    print('Testing the model')\n",
    "    prediction_list = []\n",
    "    ground_truth_list = []\n",
    "    test_running_correct = 0\n",
    "    counter = 0\n",
    "    with torch.no_grad():\n",
    "        for i, data in tqdm(enumerate(testloader), total = len(testloader)):\n",
    "            counter += 1\n",
    "            image, labels = data\n",
    "            image = image.to(device)\n",
    "            labels = labels.to(device)\n",
    "            # Forward pass\n",
    "            outputs = model(image)\n",
    "            if task == 'multi-label, binary-class':\n",
    "                predictions = torch.sigmoid(outputs, 1).cpu().numpy()\n",
    "            else:\n",
    "                predictions = F.softmax(outputs, 1).cpu().numpy()\n",
    "            output_class = np.argmax(predictions)\n",
    "\n",
    "            # Append the GT and predictions to the respective lists\n",
    "            prediction_list.append(output_class)\n",
    "            ground_truth_list.append(labels.cpu().detach().numpy().flatten())\n",
    "            # Calculate the accuracy\n",
    "            _, preds = torch.max(outputs.data, 1)\n",
    "            test_running_correct += (preds == labels.squeeze().long()).sum().item()\n",
    "            # Save few test images\n",
    "            if counter % 99 == 0:\n",
    "                save_test_results(image, labels, output_class, counter)\n",
    "        acc = 100.*(test_running_correct/ len(testloader.dataset))\n",
    "        return prediction_list, ground_truth_list, acc\n",
    "                "
   ]
  },
  {
   "cell_type": "code",
   "execution_count": null,
   "id": "3a5aa6ba",
   "metadata": {
    "scrolled": false
   },
   "outputs": [
    {
     "name": "stdout",
     "output_type": "stream",
     "text": [
      "LeNet\n"
     ]
    }
   ],
   "source": [
    "if __name__ == '__main__':\n",
    "    \n",
    "    model = LeNet(n_channels, n_classes)  # LeNet accyracy: 89.075\n",
    "    print(model.__class__.__name__ )\n",
    "    device = torch.device('cuda:0' if torch.cuda.is_available() else 'cpu')\n",
    "    model.to(device)\n",
    "    model.load_state_dict(torch.load('../outputs/mnist_pneumonia_lenet.ckpt', map_location=torch.device('cpu')))\n",
    "    \n",
    "    prediction_list, ground_truth_list, acc = test(model, test_loader, task)\n",
    "    print(f\"Test accuracy: {acc:.3f}%\")\n",
    "    \n",
    "   \n",
    "    \n",
    "    # Confusion matrix\n",
    "    conf_matrix = confusion_matrix(ground_truth_list, prediction_list)\n",
    "    \n",
    "    plt.figure(figsize=(12,9))\n",
    "\n",
    "    sns.heatmap(\n",
    "    conf_matrix, \n",
    "    annot = True,\n",
    "    xticklabels = class_names,\n",
    "    yticklabels = class_names)\n",
    "    \n",
    "    plt.savefig('../outputs/heatmaps_ConvNet_Pneumonia.png')\n",
    "    plt.close()\n"
   ]
  },
  {
   "cell_type": "code",
   "execution_count": 5,
   "id": "1862c9dd",
   "metadata": {},
   "outputs": [],
   "source": [
    "import argparse\n",
    "\n",
    "def test_options():\n",
    "    parser = argparse.ArgumentParser()\n",
    "    parser.add_argument('model', model = 'LeNet')\n",
    "    parser.add_argument('model.load_state_dict', model.load_state_dict(torch.load('../mnist_pneumonia_lenet')))"
   ]
  },
  {
   "cell_type": "code",
   "execution_count": 6,
   "id": "e5e05892",
   "metadata": {},
   "outputs": [
    {
     "ename": "NameError",
     "evalue": "name 'model' is not defined",
     "output_type": "error",
     "traceback": [
      "\u001b[1;31m---------------------------------------------------------------------------\u001b[0m",
      "\u001b[1;31mNameError\u001b[0m                                 Traceback (most recent call last)",
      "\u001b[1;32m<ipython-input-6-2838bb1d6b29>\u001b[0m in \u001b[0;36m<module>\u001b[1;34m\u001b[0m\n\u001b[0;32m      1\u001b[0m \u001b[1;31m#model = LeNet(_channnels, n_classes)\u001b[0m\u001b[1;33m\u001b[0m\u001b[1;33m\u001b[0m\u001b[1;33m\u001b[0m\u001b[0m\n\u001b[1;32m----> 2\u001b[1;33m \u001b[0mprint\u001b[0m\u001b[1;33m(\u001b[0m\u001b[0mmodel\u001b[0m\u001b[1;33m.\u001b[0m\u001b[0m__class__\u001b[0m\u001b[1;33m.\u001b[0m\u001b[0m__name__\u001b[0m\u001b[1;33m)\u001b[0m\u001b[1;33m\u001b[0m\u001b[1;33m\u001b[0m\u001b[0m\n\u001b[0m\u001b[0;32m      3\u001b[0m \u001b[0mdevice\u001b[0m \u001b[1;33m=\u001b[0m \u001b[0mtorch\u001b[0m\u001b[1;33m.\u001b[0m\u001b[0mdevice\u001b[0m\u001b[1;33m(\u001b[0m\u001b[1;34m'cuda:0'\u001b[0m \u001b[1;32mif\u001b[0m \u001b[0mtorch\u001b[0m\u001b[1;33m.\u001b[0m\u001b[0mcuda\u001b[0m\u001b[1;33m.\u001b[0m\u001b[0mis_available\u001b[0m\u001b[1;33m(\u001b[0m\u001b[1;33m)\u001b[0m \u001b[1;32melse\u001b[0m \u001b[1;34m'cpu'\u001b[0m\u001b[1;33m)\u001b[0m\u001b[1;33m\u001b[0m\u001b[1;33m\u001b[0m\u001b[0m\n\u001b[0;32m      4\u001b[0m \u001b[0mmodel\u001b[0m\u001b[1;33m.\u001b[0m\u001b[0mto\u001b[0m\u001b[1;33m(\u001b[0m\u001b[0mdevice\u001b[0m\u001b[1;33m)\u001b[0m\u001b[1;33m\u001b[0m\u001b[1;33m\u001b[0m\u001b[0m\n\u001b[0;32m      5\u001b[0m \u001b[0mprediction_list\u001b[0m\u001b[1;33m,\u001b[0m \u001b[0mground_truth_list\u001b[0m\u001b[1;33m,\u001b[0m \u001b[0macc\u001b[0m \u001b[1;33m=\u001b[0m \u001b[0mtest\u001b[0m\u001b[1;33m(\u001b[0m\u001b[0mmodel\u001b[0m\u001b[1;33m,\u001b[0m \u001b[0mtest_loader\u001b[0m\u001b[1;33m,\u001b[0m \u001b[0mtask\u001b[0m\u001b[1;33m)\u001b[0m\u001b[1;33m\u001b[0m\u001b[1;33m\u001b[0m\u001b[0m\n",
      "\u001b[1;31mNameError\u001b[0m: name 'model' is not defined"
     ]
    }
   ],
   "source": [
    "#model = LeNet(_channnels, n_classes)\n",
    "print(model.__class__.__name__)\n",
    "device = torch.device('cuda:0' if torch.cuda.is_available() else 'cpu')\n",
    "model.to(device)\n",
    "prediction_list, ground_truth_list, acc = test(model, test_loader, task)\n",
    "print(f'Test accuracy: {acc:.3f}%')"
   ]
  },
  {
   "cell_type": "code",
   "execution_count": null,
   "id": "a7a0133b",
   "metadata": {},
   "outputs": [],
   "source": []
  }
 ],
 "metadata": {
  "kernelspec": {
   "display_name": "Python 3",
   "language": "python",
   "name": "python3"
  },
  "language_info": {
   "codemirror_mode": {
    "name": "ipython",
    "version": 3
   },
   "file_extension": ".py",
   "mimetype": "text/x-python",
   "name": "python",
   "nbconvert_exporter": "python",
   "pygments_lexer": "ipython3",
   "version": "3.8.8"
  }
 },
 "nbformat": 4,
 "nbformat_minor": 5
}
